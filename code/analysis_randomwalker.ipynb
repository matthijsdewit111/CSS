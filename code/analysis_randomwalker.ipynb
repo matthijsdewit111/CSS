{
 "cells": [
  {
   "cell_type": "code",
   "execution_count": 1,
   "metadata": {
    "scrolled": true
   },
   "outputs": [],
   "source": [
    "%load_ext autoreload"
   ]
  },
  {
   "cell_type": "code",
   "execution_count": 2,
   "metadata": {},
   "outputs": [],
   "source": [
    "%autoreload\n",
    "from tqdm.notebook import tqdm\n",
    "import numpy as np\n",
    "from randomwalk_2d import randomwalk_2D\n",
    "from randomwalk_3d import randomwalk_3D\n",
    "\n",
    "import seaborn as sns\n",
    "from collections import Counter\n",
    "import itertools\n",
    "import matplotlib.pyplot as plt\n",
    "\n",
    "sns.set()\n",
    "sns.set_context(\"talk\")"
   ]
  },
  {
   "cell_type": "code",
   "execution_count": 3,
   "metadata": {},
   "outputs": [],
   "source": [
    "def generate_tree_randomwalk2d(PS):\n",
    "    x, y = [40, 60]\n",
    "    dla = randomwalk_2D(seed=[x // 2, y - 1], x = x, y = y, PS = PS)\n",
    "\n",
    "    # number of points\n",
    "    for i in tqdm(range(150)):\n",
    "        while (dla.walking == True):\n",
    "            \n",
    "            # walk with maximum probability of sticking to cluster (1 - p_stick = 0)\n",
    "            dla.walker(0, i + 1)\n",
    "            \n",
    "        dla.walking = True\n",
    "        \n",
    "    return dla"
   ]
  },
  {
   "cell_type": "code",
   "execution_count": 4,
   "metadata": {},
   "outputs": [],
   "source": [
    "def generate_tree_randomwalk3d(PS):\n",
    "    x, y, z = [40, 60, 40]\n",
    "    dla = randomwalk_3D(seed=[x // 2, y - 1, z // 2], x = x, y = y, z = z, PS = PS)\n",
    "\n",
    "    # number of points\n",
    "    for i in tqdm(range(150)):\n",
    "        while (dla.walking == True):\n",
    "            \n",
    "            # walk with maximum probability of sticking to cluster (1 - p_stick = 0)\n",
    "            dla.walker(0, i + 1)\n",
    "            \n",
    "        dla.walking = True\n",
    "        \n",
    "    return dla"
   ]
  },
  {
   "cell_type": "code",
   "execution_count": 5,
   "metadata": {},
   "outputs": [],
   "source": [
    "simulations = 5\n",
    "PSs = [10, 20, 30, 40, 50]\n",
    "\n",
    "generated_trees = dict()\n"
   ]
  },
  {
   "cell_type": "code",
   "execution_count": 6,
   "metadata": {},
   "outputs": [
    {
     "data": {
      "application/vnd.jupyter.widget-view+json": {
       "model_id": "d142920b858a462381be4dfbad88e924",
       "version_major": 2,
       "version_minor": 0
      },
      "text/plain": [
       "HBox(children=(FloatProgress(value=0.0, max=150.0), HTML(value='')))"
      ]
     },
     "metadata": {},
     "output_type": "display_data"
    },
    {
     "name": "stdout",
     "output_type": "stream",
     "text": [
      "\n"
     ]
    },
    {
     "data": {
      "application/vnd.jupyter.widget-view+json": {
       "model_id": "c04e18bf4b6c46eba1bfa12f15e8c73b",
       "version_major": 2,
       "version_minor": 0
      },
      "text/plain": [
       "HBox(children=(FloatProgress(value=0.0, max=150.0), HTML(value='')))"
      ]
     },
     "metadata": {},
     "output_type": "display_data"
    },
    {
     "name": "stdout",
     "output_type": "stream",
     "text": [
      "\n"
     ]
    },
    {
     "data": {
      "application/vnd.jupyter.widget-view+json": {
       "model_id": "962289f29a4a45599c824afb10415bc4",
       "version_major": 2,
       "version_minor": 0
      },
      "text/plain": [
       "HBox(children=(FloatProgress(value=0.0, max=150.0), HTML(value='')))"
      ]
     },
     "metadata": {},
     "output_type": "display_data"
    },
    {
     "name": "stdout",
     "output_type": "stream",
     "text": [
      "\n"
     ]
    },
    {
     "data": {
      "application/vnd.jupyter.widget-view+json": {
       "model_id": "c95b02e343a140f19bbe3df0cbdd39ea",
       "version_major": 2,
       "version_minor": 0
      },
      "text/plain": [
       "HBox(children=(FloatProgress(value=0.0, max=150.0), HTML(value='')))"
      ]
     },
     "metadata": {},
     "output_type": "display_data"
    },
    {
     "name": "stdout",
     "output_type": "stream",
     "text": [
      "\n"
     ]
    },
    {
     "data": {
      "application/vnd.jupyter.widget-view+json": {
       "model_id": "0565ebe7da2b45dc96a1efead8b5d1d0",
       "version_major": 2,
       "version_minor": 0
      },
      "text/plain": [
       "HBox(children=(FloatProgress(value=0.0, max=150.0), HTML(value='')))"
      ]
     },
     "metadata": {},
     "output_type": "display_data"
    },
    {
     "name": "stdout",
     "output_type": "stream",
     "text": [
      "\n"
     ]
    },
    {
     "data": {
      "application/vnd.jupyter.widget-view+json": {
       "model_id": "a3c05f1014654b15b416840881fa4b5f",
       "version_major": 2,
       "version_minor": 0
      },
      "text/plain": [
       "HBox(children=(FloatProgress(value=0.0, max=150.0), HTML(value='')))"
      ]
     },
     "metadata": {},
     "output_type": "display_data"
    },
    {
     "name": "stdout",
     "output_type": "stream",
     "text": [
      "\n"
     ]
    },
    {
     "data": {
      "application/vnd.jupyter.widget-view+json": {
       "model_id": "ebe7a7564984436bafad0265fbf0b766",
       "version_major": 2,
       "version_minor": 0
      },
      "text/plain": [
       "HBox(children=(FloatProgress(value=0.0, max=150.0), HTML(value='')))"
      ]
     },
     "metadata": {},
     "output_type": "display_data"
    },
    {
     "name": "stdout",
     "output_type": "stream",
     "text": [
      "\n"
     ]
    },
    {
     "data": {
      "application/vnd.jupyter.widget-view+json": {
       "model_id": "ca3d941958d14a09a133412a5b926a5e",
       "version_major": 2,
       "version_minor": 0
      },
      "text/plain": [
       "HBox(children=(FloatProgress(value=0.0, max=150.0), HTML(value='')))"
      ]
     },
     "metadata": {},
     "output_type": "display_data"
    },
    {
     "name": "stdout",
     "output_type": "stream",
     "text": [
      "\n"
     ]
    },
    {
     "data": {
      "application/vnd.jupyter.widget-view+json": {
       "model_id": "e57c8da221bf43949b7cb0010b390e77",
       "version_major": 2,
       "version_minor": 0
      },
      "text/plain": [
       "HBox(children=(FloatProgress(value=0.0, max=150.0), HTML(value='')))"
      ]
     },
     "metadata": {},
     "output_type": "display_data"
    },
    {
     "name": "stdout",
     "output_type": "stream",
     "text": [
      "\n"
     ]
    },
    {
     "data": {
      "application/vnd.jupyter.widget-view+json": {
       "model_id": "719cd4b3112541569062a8e0f9aeff3d",
       "version_major": 2,
       "version_minor": 0
      },
      "text/plain": [
       "HBox(children=(FloatProgress(value=0.0, max=150.0), HTML(value='')))"
      ]
     },
     "metadata": {},
     "output_type": "display_data"
    },
    {
     "name": "stdout",
     "output_type": "stream",
     "text": [
      "\n"
     ]
    },
    {
     "data": {
      "application/vnd.jupyter.widget-view+json": {
       "model_id": "eedddf7e91904d938050f312fc0efb10",
       "version_major": 2,
       "version_minor": 0
      },
      "text/plain": [
       "HBox(children=(FloatProgress(value=0.0, max=150.0), HTML(value='')))"
      ]
     },
     "metadata": {},
     "output_type": "display_data"
    },
    {
     "name": "stdout",
     "output_type": "stream",
     "text": [
      "\n"
     ]
    },
    {
     "data": {
      "application/vnd.jupyter.widget-view+json": {
       "model_id": "d1f9ae2203c1426ea7c425af59f5b4ce",
       "version_major": 2,
       "version_minor": 0
      },
      "text/plain": [
       "HBox(children=(FloatProgress(value=0.0, max=150.0), HTML(value='')))"
      ]
     },
     "metadata": {},
     "output_type": "display_data"
    },
    {
     "name": "stdout",
     "output_type": "stream",
     "text": [
      "\n"
     ]
    },
    {
     "data": {
      "application/vnd.jupyter.widget-view+json": {
       "model_id": "4e4ed5ed282a460ba2cba5dbe709af30",
       "version_major": 2,
       "version_minor": 0
      },
      "text/plain": [
       "HBox(children=(FloatProgress(value=0.0, max=150.0), HTML(value='')))"
      ]
     },
     "metadata": {},
     "output_type": "display_data"
    },
    {
     "name": "stdout",
     "output_type": "stream",
     "text": [
      "\n"
     ]
    },
    {
     "data": {
      "application/vnd.jupyter.widget-view+json": {
       "model_id": "1855a1e81e2c4ec4aeee42b6c1111432",
       "version_major": 2,
       "version_minor": 0
      },
      "text/plain": [
       "HBox(children=(FloatProgress(value=0.0, max=150.0), HTML(value='')))"
      ]
     },
     "metadata": {},
     "output_type": "display_data"
    },
    {
     "name": "stdout",
     "output_type": "stream",
     "text": [
      "\n"
     ]
    },
    {
     "data": {
      "application/vnd.jupyter.widget-view+json": {
       "model_id": "31f0dd28923b4baf8f46cfd3b2f9362f",
       "version_major": 2,
       "version_minor": 0
      },
      "text/plain": [
       "HBox(children=(FloatProgress(value=0.0, max=150.0), HTML(value='')))"
      ]
     },
     "metadata": {},
     "output_type": "display_data"
    },
    {
     "name": "stdout",
     "output_type": "stream",
     "text": [
      "\n"
     ]
    },
    {
     "data": {
      "application/vnd.jupyter.widget-view+json": {
       "model_id": "4cbfa084b806475b8293cd24316f52c2",
       "version_major": 2,
       "version_minor": 0
      },
      "text/plain": [
       "HBox(children=(FloatProgress(value=0.0, max=150.0), HTML(value='')))"
      ]
     },
     "metadata": {},
     "output_type": "display_data"
    },
    {
     "name": "stdout",
     "output_type": "stream",
     "text": [
      "\n"
     ]
    },
    {
     "data": {
      "application/vnd.jupyter.widget-view+json": {
       "model_id": "1edbc6e2c4bc4fd2aad7061b0f73eb7b",
       "version_major": 2,
       "version_minor": 0
      },
      "text/plain": [
       "HBox(children=(FloatProgress(value=0.0, max=150.0), HTML(value='')))"
      ]
     },
     "metadata": {},
     "output_type": "display_data"
    },
    {
     "name": "stdout",
     "output_type": "stream",
     "text": [
      "\n"
     ]
    },
    {
     "data": {
      "application/vnd.jupyter.widget-view+json": {
       "model_id": "4959fedb66df4e45bce9cb0f359b0f4c",
       "version_major": 2,
       "version_minor": 0
      },
      "text/plain": [
       "HBox(children=(FloatProgress(value=0.0, max=150.0), HTML(value='')))"
      ]
     },
     "metadata": {},
     "output_type": "display_data"
    },
    {
     "name": "stdout",
     "output_type": "stream",
     "text": [
      "\n"
     ]
    },
    {
     "data": {
      "application/vnd.jupyter.widget-view+json": {
       "model_id": "8d620950d3c14db6acf68efe01102053",
       "version_major": 2,
       "version_minor": 0
      },
      "text/plain": [
       "HBox(children=(FloatProgress(value=0.0, max=150.0), HTML(value='')))"
      ]
     },
     "metadata": {},
     "output_type": "display_data"
    },
    {
     "name": "stdout",
     "output_type": "stream",
     "text": [
      "\n"
     ]
    },
    {
     "data": {
      "application/vnd.jupyter.widget-view+json": {
       "model_id": "f669331f913645ff91510d0ee192a48c",
       "version_major": 2,
       "version_minor": 0
      },
      "text/plain": [
       "HBox(children=(FloatProgress(value=0.0, max=150.0), HTML(value='')))"
      ]
     },
     "metadata": {},
     "output_type": "display_data"
    },
    {
     "name": "stdout",
     "output_type": "stream",
     "text": [
      "\n"
     ]
    },
    {
     "data": {
      "application/vnd.jupyter.widget-view+json": {
       "model_id": "f15bd552d4e44b39bdc2acdfc2676caf",
       "version_major": 2,
       "version_minor": 0
      },
      "text/plain": [
       "HBox(children=(FloatProgress(value=0.0, max=150.0), HTML(value='')))"
      ]
     },
     "metadata": {},
     "output_type": "display_data"
    },
    {
     "name": "stdout",
     "output_type": "stream",
     "text": [
      "\n"
     ]
    },
    {
     "data": {
      "application/vnd.jupyter.widget-view+json": {
       "model_id": "a3822fafbb4e490c8778fe7e90555ca7",
       "version_major": 2,
       "version_minor": 0
      },
      "text/plain": [
       "HBox(children=(FloatProgress(value=0.0, max=150.0), HTML(value='')))"
      ]
     },
     "metadata": {},
     "output_type": "display_data"
    },
    {
     "name": "stdout",
     "output_type": "stream",
     "text": [
      "\n"
     ]
    },
    {
     "data": {
      "application/vnd.jupyter.widget-view+json": {
       "model_id": "5095494e68174fb98237503e57e63b30",
       "version_major": 2,
       "version_minor": 0
      },
      "text/plain": [
       "HBox(children=(FloatProgress(value=0.0, max=150.0), HTML(value='')))"
      ]
     },
     "metadata": {},
     "output_type": "display_data"
    },
    {
     "name": "stdout",
     "output_type": "stream",
     "text": [
      "\n"
     ]
    },
    {
     "data": {
      "application/vnd.jupyter.widget-view+json": {
       "model_id": "681ce4c247bf49d797cdfa1aaa7cd894",
       "version_major": 2,
       "version_minor": 0
      },
      "text/plain": [
       "HBox(children=(FloatProgress(value=0.0, max=150.0), HTML(value='')))"
      ]
     },
     "metadata": {},
     "output_type": "display_data"
    },
    {
     "name": "stdout",
     "output_type": "stream",
     "text": [
      "\n"
     ]
    },
    {
     "data": {
      "application/vnd.jupyter.widget-view+json": {
       "model_id": "1cd364d382e54cd294908bb8e3334384",
       "version_major": 2,
       "version_minor": 0
      },
      "text/plain": [
       "HBox(children=(FloatProgress(value=0.0, max=150.0), HTML(value='')))"
      ]
     },
     "metadata": {},
     "output_type": "display_data"
    },
    {
     "name": "stdout",
     "output_type": "stream",
     "text": [
      "\n"
     ]
    },
    {
     "data": {
      "text/plain": [
       "{10: [<randomwalk_2d.randomwalk_2D at 0x2222ae0ae48>,\n",
       "  <randomwalk_2d.randomwalk_2D at 0x2222ae2f358>,\n",
       "  <randomwalk_2d.randomwalk_2D at 0x2222ae42a20>,\n",
       "  <randomwalk_2d.randomwalk_2D at 0x2222ae57f98>,\n",
       "  <randomwalk_2d.randomwalk_2D at 0x2222ae67cc0>],\n",
       " 20: [<randomwalk_2d.randomwalk_2D at 0x2222ae7abe0>,\n",
       "  <randomwalk_2d.randomwalk_2D at 0x2222ae8f278>,\n",
       "  <randomwalk_2d.randomwalk_2D at 0x2222ae9b630>,\n",
       "  <randomwalk_2d.randomwalk_2D at 0x2222aea0198>,\n",
       "  <randomwalk_2d.randomwalk_2D at 0x2222aebd198>],\n",
       " 30: [<randomwalk_2d.randomwalk_2D at 0x2222aed13c8>,\n",
       "  <randomwalk_2d.randomwalk_2D at 0x2222aed9ef0>,\n",
       "  <randomwalk_2d.randomwalk_2D at 0x2222aef1208>,\n",
       "  <randomwalk_2d.randomwalk_2D at 0x222297fd198>,\n",
       "  <randomwalk_2d.randomwalk_2D at 0x2222af08e80>],\n",
       " 40: [<randomwalk_2d.randomwalk_2D at 0x2222af1f048>,\n",
       "  <randomwalk_2d.randomwalk_2D at 0x2222af122b0>,\n",
       "  <randomwalk_2d.randomwalk_2D at 0x2222af3ca58>,\n",
       "  <randomwalk_2d.randomwalk_2D at 0x2222af49630>,\n",
       "  <randomwalk_2d.randomwalk_2D at 0x2222af5e898>],\n",
       " 50: [<randomwalk_2d.randomwalk_2D at 0x2222af6e940>,\n",
       "  <randomwalk_2d.randomwalk_2D at 0x2222af83780>,\n",
       "  <randomwalk_2d.randomwalk_2D at 0x2222af8d080>,\n",
       "  <randomwalk_2d.randomwalk_2D at 0x2222afa1128>,\n",
       "  <randomwalk_2d.randomwalk_2D at 0x2222afb1be0>]}"
      ]
     },
     "execution_count": 6,
     "metadata": {},
     "output_type": "execute_result"
    }
   ],
   "source": [
    "for PS in PSs:\n",
    "    generated_trees[PS] = []\n",
    "\n",
    "for PS in PSs:\n",
    "    for _ in range(simulations):\n",
    "        \n",
    "        # change model here\n",
    "        generated_trees[PS].append(generate_tree_randomwalk2d(PS))\n",
    "        \n",
    "generated_trees"
   ]
  },
  {
   "cell_type": "code",
   "execution_count": 7,
   "metadata": {},
   "outputs": [
    {
     "data": {
      "image/png": "[encoded data removed]",
      "text/plain": [
       "<Figure size 648x432 with 5 Axes>"
      ]
     },
     "metadata": {
      "needs_background": "light"
     },
     "output_type": "display_data"
    }
   ],
   "source": [
    "fig, ax = plt.subplots(2, 3, figsize = (9, 6))\n",
    "ax = ax.flatten()\n",
    "counter  = 0\n",
    "for PS in PSs:\n",
    "\n",
    "    branch_orders = []\n",
    "    for tree in generated_trees[PS]:\n",
    "        branch_orders += tree.tree.get_branch_orders()\n",
    "    \n",
    "    \n",
    "    c = Counter(branch_orders)\n",
    "    c = sorted(c.items())\n",
    "    x, y = zip(*c)\n",
    "    ax[counter].hist(branch_orders, alpha = 0.5, bins = max(branch_orders))\n",
    "    ax[counter].set_title(\"PS: {}\".format(PS))\n",
    "    ax[counter].set_xlabel(\"Branching order\")\n",
    "    ax[counter].set_ylabel(\"Occurences\")\n",
    "    counter += 1\n",
    "\n",
    "fig.delaxes(ax[counter])\n",
    "fig.subplots_adjust(wspace = 1, hspace = 1)\n",
    "fig.suptitle(\"Branching orders as a function of the Pruning Span\", fontsize=21)\n",
    "fig.savefig(\"../results/BO_random_2D.png\", bbox_inches=\"tight\")\n",
    "plt.ylabel(\"Occurences\")\n",
    "plt.show()"
   ]
  },
  {
   "cell_type": "code",
   "execution_count": 8,
   "metadata": {},
   "outputs": [
    {
     "data": {
      "image/png": "[encoded data removed]",
      "text/plain": [
       "<Figure size 432x288 with 1 Axes>"
      ]
     },
     "metadata": {
      "needs_background": "light"
     },
     "output_type": "display_data"
    }
   ],
   "source": [
    "plt.figure()\n",
    "for PS in PSs:\n",
    "\n",
    "    branch_orders = []\n",
    "    for tree in generated_trees[PS]:\n",
    "        branch_orders += tree.tree.get_branch_orders()\n",
    "    \n",
    "    \n",
    "    c = Counter(branch_orders)\n",
    "    c = sorted(c.items())\n",
    "    x, y = zip(*c)\n",
    "    plt.plot(x, y, label='PS = {}'.format(PS))\n",
    "\n",
    "plt.title(\"Occurrence of the branching order per pruning span\")\n",
    "plt.ylabel(\"Occurrence\")\n",
    "plt.xlabel(\"Pruning span\")\n",
    "plt.legend(loc=\"center left\", bbox_to_anchor=(1, 0.5))\n",
    "plt.savefig(\"../results/occurrence_random_2D.png\", bbox_inches=\"tight\")\n",
    "plt.show()"
   ]
  },
  {
   "cell_type": "code",
   "execution_count": 9,
   "metadata": {},
   "outputs": [
    {
     "name": "stdout",
     "output_type": "stream",
     "text": [
      "Asymmetry index = 0.7167477860976313 +- 0.09594205336429389. For PS = 10\n",
      "Asymmetry index = 0.6642135642135641 +- 0.16338421673716794. For PS = 20\n",
      "Asymmetry index = 0.7549999999999999 +- 0.09769567259835225. For PS = 30\n",
      "Asymmetry index = 0.7266666666666666 +- 0.11234866364235145. For PS = 40\n",
      "Asymmetry index = 0.6114285714285714 +- 0.19688273614358173. For PS = 50\n"
     ]
    }
   ],
   "source": [
    "means = []\n",
    "errors = []\n",
    "for PS in PSs:\n",
    "    asym = []\n",
    "\n",
    "    for tree in generated_trees[PS]:\n",
    "        asym.append(tree.tree.get_asymmetry_index())\n",
    "    \n",
    "    mean = np.mean(asym)\n",
    "    std = np.std(asym)\n",
    "    means.append(mean)\n",
    "    errors.append(std)\n",
    "    print(\"Asymmetry index = {} +- {}. For PS = {}\".format(mean, std, PS))\n",
    "    "
   ]
  },
  {
   "cell_type": "code",
   "execution_count": 10,
   "metadata": {},
   "outputs": [
    {
     "data": {
      "image/png": "[encoded data removed]",
      "text/plain": [
       "<Figure size 432x288 with 1 Axes>"
      ]
     },
     "metadata": {
      "needs_background": "light"
     },
     "output_type": "display_data"
    }
   ],
   "source": [
    "fig, ax = plt.subplots()\n",
    "ax.bar(PSs, means, yerr=errors, width = 5, alpha=0.5, ecolor='black', capsize=10)\n",
    "ax.set_ylabel('Asymmetry index')\n",
    "ax.set_xlabel('Pruning span')\n",
    "ax.set_xticks(PSs)\n",
    "ax.yaxis.grid(True)\n",
    "fig.suptitle(\"Asymmetry index per pruning span\", fontsize=21)\n",
    "fig.savefig(\"../results/AI_random_2D.png\", bbox_inches=\"tight\")\n",
    "plt.show()"
   ]
  },
  {
   "cell_type": "code",
   "execution_count": 11,
   "metadata": {},
   "outputs": [
    {
     "name": "stdout",
     "output_type": "stream",
     "text": [
      "Terminal leafs = 16.0 +- 2.8284271247461903. For PS = 10\n",
      "Terminal leafs = 9.0 +- 1.7888543819998317. For PS = 20\n",
      "Terminal leafs = 8.2 +- 1.5999999999999999. For PS = 30\n",
      "Terminal leafs = 7.0 +- 1.0954451150103321. For PS = 40\n",
      "Terminal leafs = 7.2 +- 0.9797958971132712. For PS = 50\n"
     ]
    }
   ],
   "source": [
    "# beware for change in function name, leafs!=terminal segments\n",
    "means = []\n",
    "errors = []\n",
    "\n",
    "for PS in PSs:\n",
    "    leafs = []\n",
    "\n",
    "    for tree in generated_trees[PS]:\n",
    "        leafs.append(tree.tree.get_number_of_terminal_segments())\n",
    "    \n",
    "    mean = np.mean(leafs)\n",
    "    std = np.std(leafs)\n",
    "    means.append(mean)\n",
    "    errors.append(std)\n",
    "    \n",
    "    print(\"Terminal leafs = {} +- {}. For PS = {}\".format(mean, std, PS))\n"
   ]
  },
  {
   "cell_type": "code",
   "execution_count": 12,
   "metadata": {},
   "outputs": [
    {
     "data": {
      "image/png": "[encoded data removed]",
      "text/plain": [
       "<Figure size 432x288 with 1 Axes>"
      ]
     },
     "metadata": {
      "needs_background": "light"
     },
     "output_type": "display_data"
    }
   ],
   "source": [
    "fig, ax = plt.subplots()\n",
    "ax.bar(PSs, means, yerr=errors, width = 5, alpha=0.5, ecolor='black', capsize=10)\n",
    "ax.set_ylabel('Terminal leafs')\n",
    "ax.set_xlabel('Pruning span')\n",
    "ax.set_xticks(PSs)\n",
    "ax.yaxis.grid(True)\n",
    "fig.suptitle(\"Terminal leafs per pruning span\", fontsize=21)\n",
    "fig.savefig(\"../results/TL_random_2D.png\", bbox_inches=\"tight\")\n",
    "plt.show()"
   ]
  }
 ],
 "metadata": {
  "kernelspec": {
   "display_name": "Python 3",
   "language": "python",
   "name": "python3"
  },
  "language_info": {
   "codemirror_mode": {
    "name": "ipython",
    "version": 3
   },
   "file_extension": ".py",
   "mimetype": "text/x-python",
   "name": "python",
   "nbconvert_exporter": "python",
   "pygments_lexer": "ipython3",
   "version": "3.7.2"
  }
 },
 "nbformat": 4,
 "nbformat_minor": 4
}
