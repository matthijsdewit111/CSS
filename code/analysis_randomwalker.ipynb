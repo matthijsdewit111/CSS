{
 "cells": [
  {
   "cell_type": "code",
   "execution_count": 1,
   "metadata": {
    "scrolled": true
   },
   "outputs": [],
   "source": [
    "%load_ext autoreload"
   ]
  },
  {
   "cell_type": "code",
   "execution_count": 2,
   "metadata": {},
   "outputs": [],
   "source": [
    "%autoreload\n",
    "from tqdm.notebook import tqdm\n",
    "import numpy as np\n",
    "from randomwalk_2d import randomwalk_2D\n",
    "from randomwalk_3d import randomwalk_3D\n",
    "\n",
    "import seaborn as sns\n",
    "from collections import Counter\n",
    "import itertools\n",
    "import matplotlib.pyplot as plt\n",
    "\n",
    "sns.set()\n",
    "sns.set_context(\"talk\")"
   ]
  },
  {
   "cell_type": "code",
   "execution_count": 3,
   "metadata": {},
   "outputs": [],
   "source": [
    "def generate_tree_randomwalk2d(PS):\n",
    "    x, y = [40, 60]\n",
    "    dla = randomwalk_2D(seed=[x // 2, y - 1], x = x, y = y, PS = PS)\n",
    "\n",
    "    # number of points\n",
    "    for i in tqdm(range(150)):\n",
    "        while (dla.walking == True):\n",
    "            \n",
    "            # walk with maximum probability of sticking to cluster (1 - p_stick = 0)\n",
    "            dla.walker(0, i + 1)\n",
    "            \n",
    "        dla.walking = True\n",
    "        \n",
    "    return dla"
   ]
  },
  {
   "cell_type": "code",
   "execution_count": 4,
   "metadata": {},
   "outputs": [],
   "source": [
    "def generate_tree_randomwalk3d(PS):\n",
    "    x, y, z = [40, 60, 40]\n",
    "    dla = randomwalk_3D(seed=[x // 2, y - 1, z // 2], x = x, y = y, z = z, PS = PS)\n",
    "\n",
    "    # number of points\n",
    "    for i in tqdm(range(150)):\n",
    "        while (dla.walking == True):\n",
    "            \n",
    "            # walk with maximum probability of sticking to cluster (1 - p_stick = 0)\n",
    "            dla.walker(0, i + 1)\n",
    "            \n",
    "        dla.walking = True\n",
    "        \n",
    "    return dla"
   ]
  },
  {
   "cell_type": "code",
   "execution_count": 5,
   "metadata": {},
   "outputs": [],
   "source": [
    "simulations = 5\n",
    "PSs = [10, 20, 30, 40, 50]\n",
    "\n",
    "generated_trees = dict()\n"
   ]
  },
  {
   "cell_type": "code",
   "execution_count": 6,
   "metadata": {},
   "outputs": [
    {
     "data": {
      "application/vnd.jupyter.widget-view+json": {
       "model_id": "2edb321b7142431c97593e76eb844ce6",
       "version_major": 2,
       "version_minor": 0
      },
      "text/plain": [
       "HBox(children=(FloatProgress(value=0.0, max=150.0), HTML(value='')))"
      ]
     },
     "metadata": {},
     "output_type": "display_data"
    },
    {
     "name": "stdout",
     "output_type": "stream",
     "text": [
      "\n"
     ]
    },
    {
     "data": {
      "application/vnd.jupyter.widget-view+json": {
       "model_id": "d18fce3cc8f6437b966255aa57b6d5ae",
       "version_major": 2,
       "version_minor": 0
      },
      "text/plain": [
       "HBox(children=(FloatProgress(value=0.0, max=150.0), HTML(value='')))"
      ]
     },
     "metadata": {},
     "output_type": "display_data"
    },
    {
     "name": "stdout",
     "output_type": "stream",
     "text": [
      "\n"
     ]
    },
    {
     "data": {
      "application/vnd.jupyter.widget-view+json": {
       "model_id": "e3fbaab356f94493bfcd8eaf4a802426",
       "version_major": 2,
       "version_minor": 0
      },
      "text/plain": [
       "HBox(children=(FloatProgress(value=0.0, max=150.0), HTML(value='')))"
      ]
     },
     "metadata": {},
     "output_type": "display_data"
    },
    {
     "name": "stdout",
     "output_type": "stream",
     "text": [
      "\n"
     ]
    },
    {
     "data": {
      "application/vnd.jupyter.widget-view+json": {
       "model_id": "fb9e155fe40e45edb8f6463ff2bc9a3c",
       "version_major": 2,
       "version_minor": 0
      },
      "text/plain": [
       "HBox(children=(FloatProgress(value=0.0, max=150.0), HTML(value='')))"
      ]
     },
     "metadata": {},
     "output_type": "display_data"
    },
    {
     "name": "stdout",
     "output_type": "stream",
     "text": [
      "\n"
     ]
    },
    {
     "data": {
      "application/vnd.jupyter.widget-view+json": {
       "model_id": "be4d230539234874856712f2f281f7d2",
       "version_major": 2,
       "version_minor": 0
      },
      "text/plain": [
       "HBox(children=(FloatProgress(value=0.0, max=150.0), HTML(value='')))"
      ]
     },
     "metadata": {},
     "output_type": "display_data"
    },
    {
     "name": "stdout",
     "output_type": "stream",
     "text": [
      "\n"
     ]
    },
    {
     "data": {
      "application/vnd.jupyter.widget-view+json": {
       "model_id": "6e022399b218480da51c29cc5f41ba4d",
       "version_major": 2,
       "version_minor": 0
      },
      "text/plain": [
       "HBox(children=(FloatProgress(value=0.0, max=150.0), HTML(value='')))"
      ]
     },
     "metadata": {},
     "output_type": "display_data"
    },
    {
     "name": "stdout",
     "output_type": "stream",
     "text": [
      "\n"
     ]
    },
    {
     "data": {
      "application/vnd.jupyter.widget-view+json": {
       "model_id": "055f8821d3b944fbaf7dee2ea3c2194a",
       "version_major": 2,
       "version_minor": 0
      },
      "text/plain": [
       "HBox(children=(FloatProgress(value=0.0, max=150.0), HTML(value='')))"
      ]
     },
     "metadata": {},
     "output_type": "display_data"
    },
    {
     "name": "stdout",
     "output_type": "stream",
     "text": [
      "\n"
     ]
    },
    {
     "data": {
      "application/vnd.jupyter.widget-view+json": {
       "model_id": "4d6396ed2e884fee9b554ce429c5a9e3",
       "version_major": 2,
       "version_minor": 0
      },
      "text/plain": [
       "HBox(children=(FloatProgress(value=0.0, max=150.0), HTML(value='')))"
      ]
     },
     "metadata": {},
     "output_type": "display_data"
    },
    {
     "name": "stdout",
     "output_type": "stream",
     "text": [
      "\n"
     ]
    },
    {
     "data": {
      "application/vnd.jupyter.widget-view+json": {
       "model_id": "143ea34360f245118583dcc9fefaa3de",
       "version_major": 2,
       "version_minor": 0
      },
      "text/plain": [
       "HBox(children=(FloatProgress(value=0.0, max=150.0), HTML(value='')))"
      ]
     },
     "metadata": {},
     "output_type": "display_data"
    },
    {
     "name": "stdout",
     "output_type": "stream",
     "text": [
      "\n"
     ]
    },
    {
     "data": {
      "application/vnd.jupyter.widget-view+json": {
       "model_id": "6eb0f2c32fda43ec80a4d660c1c66770",
       "version_major": 2,
       "version_minor": 0
      },
      "text/plain": [
       "HBox(children=(FloatProgress(value=0.0, max=150.0), HTML(value='')))"
      ]
     },
     "metadata": {},
     "output_type": "display_data"
    },
    {
     "name": "stdout",
     "output_type": "stream",
     "text": [
      "\n"
     ]
    },
    {
     "data": {
      "application/vnd.jupyter.widget-view+json": {
       "model_id": "5597a471c9f7485ba4999983c6f8f273",
       "version_major": 2,
       "version_minor": 0
      },
      "text/plain": [
       "HBox(children=(FloatProgress(value=0.0, max=150.0), HTML(value='')))"
      ]
     },
     "metadata": {},
     "output_type": "display_data"
    },
    {
     "name": "stdout",
     "output_type": "stream",
     "text": [
      "\n"
     ]
    },
    {
     "data": {
      "application/vnd.jupyter.widget-view+json": {
       "model_id": "d581c9001b3e48dc8d3422ece68af830",
       "version_major": 2,
       "version_minor": 0
      },
      "text/plain": [
       "HBox(children=(FloatProgress(value=0.0, max=150.0), HTML(value='')))"
      ]
     },
     "metadata": {},
     "output_type": "display_data"
    },
    {
     "name": "stdout",
     "output_type": "stream",
     "text": [
      "\n"
     ]
    },
    {
     "data": {
      "application/vnd.jupyter.widget-view+json": {
       "model_id": "107303dd0d6e4f17a44bdad54109289c",
       "version_major": 2,
       "version_minor": 0
      },
      "text/plain": [
       "HBox(children=(FloatProgress(value=0.0, max=150.0), HTML(value='')))"
      ]
     },
     "metadata": {},
     "output_type": "display_data"
    },
    {
     "name": "stdout",
     "output_type": "stream",
     "text": [
      "\n"
     ]
    },
    {
     "data": {
      "application/vnd.jupyter.widget-view+json": {
       "model_id": "1cf1a8114d654228a2685cd8c42bdfdb",
       "version_major": 2,
       "version_minor": 0
      },
      "text/plain": [
       "HBox(children=(FloatProgress(value=0.0, max=150.0), HTML(value='')))"
      ]
     },
     "metadata": {},
     "output_type": "display_data"
    },
    {
     "name": "stdout",
     "output_type": "stream",
     "text": [
      "\n"
     ]
    },
    {
     "data": {
      "application/vnd.jupyter.widget-view+json": {
       "model_id": "1fd3a70a723840b1b8101b405438feb9",
       "version_major": 2,
       "version_minor": 0
      },
      "text/plain": [
       "HBox(children=(FloatProgress(value=0.0, max=150.0), HTML(value='')))"
      ]
     },
     "metadata": {},
     "output_type": "display_data"
    },
    {
     "name": "stdout",
     "output_type": "stream",
     "text": [
      "\n"
     ]
    },
    {
     "data": {
      "application/vnd.jupyter.widget-view+json": {
       "model_id": "46150e19692246fd993b695628cd02bc",
       "version_major": 2,
       "version_minor": 0
      },
      "text/plain": [
       "HBox(children=(FloatProgress(value=0.0, max=150.0), HTML(value='')))"
      ]
     },
     "metadata": {},
     "output_type": "display_data"
    },
    {
     "name": "stdout",
     "output_type": "stream",
     "text": [
      "\n"
     ]
    },
    {
     "data": {
      "application/vnd.jupyter.widget-view+json": {
       "model_id": "14f4d54774a84be3a807136ce0b24502",
       "version_major": 2,
       "version_minor": 0
      },
      "text/plain": [
       "HBox(children=(FloatProgress(value=0.0, max=150.0), HTML(value='')))"
      ]
     },
     "metadata": {},
     "output_type": "display_data"
    },
    {
     "name": "stdout",
     "output_type": "stream",
     "text": [
      "\n"
     ]
    },
    {
     "data": {
      "application/vnd.jupyter.widget-view+json": {
       "model_id": "203d1cd1ffa347dcb451ff1116de5513",
       "version_major": 2,
       "version_minor": 0
      },
      "text/plain": [
       "HBox(children=(FloatProgress(value=0.0, max=150.0), HTML(value='')))"
      ]
     },
     "metadata": {},
     "output_type": "display_data"
    },
    {
     "name": "stdout",
     "output_type": "stream",
     "text": [
      "\n"
     ]
    },
    {
     "data": {
      "application/vnd.jupyter.widget-view+json": {
       "model_id": "a26d7f5ba39c47d2bdd5b58820ae1b08",
       "version_major": 2,
       "version_minor": 0
      },
      "text/plain": [
       "HBox(children=(FloatProgress(value=0.0, max=150.0), HTML(value='')))"
      ]
     },
     "metadata": {},
     "output_type": "display_data"
    },
    {
     "name": "stdout",
     "output_type": "stream",
     "text": [
      "\n"
     ]
    },
    {
     "data": {
      "application/vnd.jupyter.widget-view+json": {
       "model_id": "d2868fc74abd4766975444a66d6a1400",
       "version_major": 2,
       "version_minor": 0
      },
      "text/plain": [
       "HBox(children=(FloatProgress(value=0.0, max=150.0), HTML(value='')))"
      ]
     },
     "metadata": {},
     "output_type": "display_data"
    },
    {
     "name": "stdout",
     "output_type": "stream",
     "text": [
      "\n"
     ]
    },
    {
     "data": {
      "application/vnd.jupyter.widget-view+json": {
       "model_id": "fb7b68fe5dc745869bc4794a5d538bd1",
       "version_major": 2,
       "version_minor": 0
      },
      "text/plain": [
       "HBox(children=(FloatProgress(value=0.0, max=150.0), HTML(value='')))"
      ]
     },
     "metadata": {},
     "output_type": "display_data"
    },
    {
     "name": "stdout",
     "output_type": "stream",
     "text": [
      "\n"
     ]
    },
    {
     "data": {
      "application/vnd.jupyter.widget-view+json": {
       "model_id": "4a70a4bfdf2144dfbcd253d3a4f38593",
       "version_major": 2,
       "version_minor": 0
      },
      "text/plain": [
       "HBox(children=(FloatProgress(value=0.0, max=150.0), HTML(value='')))"
      ]
     },
     "metadata": {},
     "output_type": "display_data"
    },
    {
     "name": "stdout",
     "output_type": "stream",
     "text": [
      "\n"
     ]
    },
    {
     "data": {
      "application/vnd.jupyter.widget-view+json": {
       "model_id": "ac8ce4e53d9d449580a7e94a72538e34",
       "version_major": 2,
       "version_minor": 0
      },
      "text/plain": [
       "HBox(children=(FloatProgress(value=0.0, max=150.0), HTML(value='')))"
      ]
     },
     "metadata": {},
     "output_type": "display_data"
    },
    {
     "name": "stdout",
     "output_type": "stream",
     "text": [
      "\n"
     ]
    },
    {
     "data": {
      "application/vnd.jupyter.widget-view+json": {
       "model_id": "2a52fb52668142e29a978ce2ca596727",
       "version_major": 2,
       "version_minor": 0
      },
      "text/plain": [
       "HBox(children=(FloatProgress(value=0.0, max=150.0), HTML(value='')))"
      ]
     },
     "metadata": {},
     "output_type": "display_data"
    },
    {
     "name": "stdout",
     "output_type": "stream",
     "text": [
      "\n"
     ]
    },
    {
     "data": {
      "application/vnd.jupyter.widget-view+json": {
       "model_id": "edefd4cb5d5b4a8697501625c0e2bb62",
       "version_major": 2,
       "version_minor": 0
      },
      "text/plain": [
       "HBox(children=(FloatProgress(value=0.0, max=150.0), HTML(value='')))"
      ]
     },
     "metadata": {},
     "output_type": "display_data"
    },
    {
     "name": "stdout",
     "output_type": "stream",
     "text": [
      "\n"
     ]
    },
    {
     "data": {
      "text/plain": [
       "{10: [<randomwalk_3d.randomwalk_3D at 0x1e5bc4ffd68>,\n",
       "  <randomwalk_3d.randomwalk_3D at 0x1e5bc527908>,\n",
       "  <randomwalk_3d.randomwalk_3D at 0x1e5bc55fef0>,\n",
       "  <randomwalk_3d.randomwalk_3D at 0x1e5bc569710>,\n",
       "  <randomwalk_3d.randomwalk_3D at 0x1e5bc5690f0>],\n",
       " 20: [<randomwalk_3d.randomwalk_3D at 0x1e5bc593710>,\n",
       "  <randomwalk_3d.randomwalk_3D at 0x1e5bc59b5f8>,\n",
       "  <randomwalk_3d.randomwalk_3D at 0x1e5bc5a8160>,\n",
       "  <randomwalk_3d.randomwalk_3D at 0x1e5bc5b8be0>,\n",
       "  <randomwalk_3d.randomwalk_3D at 0x1e5bc5c7cf8>],\n",
       " 30: [<randomwalk_3d.randomwalk_3D at 0x1e5bc5dd748>,\n",
       "  <randomwalk_3d.randomwalk_3D at 0x1e5bc5e89e8>,\n",
       "  <randomwalk_3d.randomwalk_3D at 0x1e5bc5f5b70>,\n",
       "  <randomwalk_3d.randomwalk_3D at 0x1e5bd5d90f0>,\n",
       "  <randomwalk_3d.randomwalk_3D at 0x1e5bd5e6828>],\n",
       " 40: [<randomwalk_3d.randomwalk_3D at 0x1e5bd5f3e80>,\n",
       "  <randomwalk_3d.randomwalk_3D at 0x1e5bd5f3ef0>,\n",
       "  <randomwalk_3d.randomwalk_3D at 0x1e5bd615668>,\n",
       "  <randomwalk_3d.randomwalk_3D at 0x1e5bd615860>,\n",
       "  <randomwalk_3d.randomwalk_3D at 0x1e5bd62c9e8>],\n",
       " 50: [<randomwalk_3d.randomwalk_3D at 0x1e5bd6388d0>,\n",
       "  <randomwalk_3d.randomwalk_3D at 0x1e5bd63edd8>,\n",
       "  <randomwalk_3d.randomwalk_3D at 0x1e5bd65d0f0>,\n",
       "  <randomwalk_3d.randomwalk_3D at 0x1e5bd6670f0>,\n",
       "  <randomwalk_3d.randomwalk_3D at 0x1e5bd67b6a0>]}"
      ]
     },
     "execution_count": 6,
     "metadata": {},
     "output_type": "execute_result"
    }
   ],
   "source": [
    "for PS in PSs:\n",
    "    generated_trees[PS] = []\n",
    "\n",
    "for PS in PSs:\n",
    "    for _ in range(simulations):\n",
    "        \n",
    "        # change model here\n",
    "        generated_trees[PS].append(generate_tree_randomwalk3d(PS))\n",
    "        \n",
    "generated_trees"
   ]
  },
  {
   "cell_type": "code",
   "execution_count": 7,
   "metadata": {},
   "outputs": [
    {
     "data": {
      "image/png": "[encoded data removed]",
      "text/plain": [
       "<Figure size 648x432 with 5 Axes>"
      ]
     },
     "metadata": {
      "needs_background": "light"
     },
     "output_type": "display_data"
    }
   ],
   "source": [
    "fig, ax = plt.subplots(2, 3, figsize = (9, 6))\n",
    "ax = ax.flatten()\n",
    "counter  = 0\n",
    "for PS in PSs:\n",
    "\n",
    "    branch_orders = []\n",
    "    for tree in generated_trees[PS]:\n",
    "        branch_orders += tree.tree.get_branch_orders()\n",
    "    \n",
    "    \n",
    "    c = Counter(branch_orders)\n",
    "    c = sorted(c.items())\n",
    "    x, y = zip(*c)\n",
    "    ax[counter].hist(branch_orders, alpha = 0.5, bins = max(branch_orders))\n",
    "    ax[counter].set_title(\"PS: {}\".format(PS))\n",
    "    ax[counter].set_xlabel(\"Branching order\")\n",
    "    ax[counter].set_ylabel(\"Occurences\")\n",
    "    counter += 1\n",
    "\n",
    "fig.delaxes(ax[counter])\n",
    "fig.subplots_adjust(wspace = 1, hspace = 1)\n",
    "fig.suptitle(\"Branching orders as a function of the Pruning Span\", fontsize=21)\n",
    "fig.savefig(\"BO_random_3D.png\")\n",
    "plt.ylabel(\"Occurences\")\n",
    "plt.show()"
   ]
  },
  {
   "cell_type": "code",
   "execution_count": 8,
   "metadata": {},
   "outputs": [
    {
     "data": {
      "image/png": "[encoded data removed]",
      "text/plain": [
       "<Figure size 432x288 with 1 Axes>"
      ]
     },
     "metadata": {
      "needs_background": "light"
     },
     "output_type": "display_data"
    }
   ],
   "source": [
    "plt.figure()\n",
    "for PS in PSs:\n",
    "\n",
    "    branch_orders = []\n",
    "    for tree in generated_trees[PS]:\n",
    "        branch_orders += tree.tree.get_branch_orders()\n",
    "    \n",
    "    \n",
    "    c = Counter(branch_orders)\n",
    "    c = sorted(c.items())\n",
    "    x, y = zip(*c)\n",
    "    plt.plot(x, y, label='PS = {}'.format(PS))\n",
    "\n",
    "plt.title(\"Occurrence of the branching order per pruning span\")\n",
    "plt.ylabel(\"Occurrence\")\n",
    "plt.xlabel(\"Pruning span\")\n",
    "plt.legend(loc=\"center left\", bbox_to_anchor=(1, 0.5))\n",
    "plt.show()"
   ]
  },
  {
   "cell_type": "code",
   "execution_count": 9,
   "metadata": {},
   "outputs": [
    {
     "name": "stdout",
     "output_type": "stream",
     "text": [
      "Asymmetry index = 0.6210522338135489 +- 0.09991142256864706. For PS = 10\n",
      "Asymmetry index = 0.7035185185185184 +- 0.1147108250698382. For PS = 20\n",
      "Asymmetry index = 0.5467857142857143 +- 0.17389006613961824. For PS = 30\n",
      "Asymmetry index = 0.6778571428571428 +- 0.20996112370957573. For PS = 40\n",
      "Asymmetry index = 0.5190476190476191 +- 0.2505504144959286. For PS = 50\n"
     ]
    }
   ],
   "source": [
    "means = []\n",
    "errors = []\n",
    "for PS in PSs:\n",
    "    asym = []\n",
    "\n",
    "    for tree in generated_trees[PS]:\n",
    "        asym.append(tree.tree.get_asymmetry_index())\n",
    "    \n",
    "    mean = np.mean(asym)\n",
    "    std = np.std(asym)\n",
    "    means.append(mean)\n",
    "    errors.append(std)\n",
    "    print(\"Asymmetry index = {} +- {}. For PS = {}\".format(mean, std, PS))\n",
    "    "
   ]
  },
  {
   "cell_type": "code",
   "execution_count": 25,
   "metadata": {},
   "outputs": [
    {
     "data": {
      "image/png": "[encoded data removed]",
      "text/plain": [
       "<Figure size 432x288 with 1 Axes>"
      ]
     },
     "metadata": {
      "needs_background": "light"
     },
     "output_type": "display_data"
    }
   ],
   "source": [
    "fig, ax = plt.subplots()\n",
    "ax.bar(PSs, means, yerr=errors, width = 5, alpha=0.5, ecolor='black', capsize=10)\n",
    "ax.set_ylabel('Asymmetry index')\n",
    "ax.set_xlabel('Pruning span')\n",
    "ax.set_xticks(PSs)\n",
    "ax.yaxis.grid(True)\n",
    "fig.suptitle(\"Asymmetry index as a function of the pruning span\", fontsize=21)\n",
    "fig.savefig(\"../results/AI_random_3D.png\")\n",
    "plt.show()"
   ]
  },
  {
   "cell_type": "code",
   "execution_count": 11,
   "metadata": {},
   "outputs": [
    {
     "name": "stdout",
     "output_type": "stream",
     "text": [
      "Terminal leafs = 22.2 +- 3.370459909270543. For PS = 10\n",
      "Terminal leafs = 9.8 +- 0.7483314773547882. For PS = 20\n",
      "Terminal leafs = 8.2 +- 1.1661903789690602. For PS = 30\n",
      "Terminal leafs = 8.0 +- 1.0954451150103321. For PS = 40\n",
      "Terminal leafs = 7.0 +- 0.8944271909999159. For PS = 50\n"
     ]
    }
   ],
   "source": [
    "# beware for change in function name, leafs!=terminal segments\n",
    "means = []\n",
    "errors = []\n",
    "\n",
    "for PS in PSs:\n",
    "    leafs = []\n",
    "\n",
    "    for tree in generated_trees[PS]:\n",
    "        leafs.append(tree.tree.get_number_of_terminal_segments())\n",
    "    \n",
    "    mean = np.mean(leafs)\n",
    "    std = np.std(leafs)\n",
    "    means.append(mean)\n",
    "    errors.append(std)\n",
    "    \n",
    "    print(\"Terminal leafs = {} +- {}. For PS = {}\".format(mean, std, PS))\n"
   ]
  },
  {
   "cell_type": "code",
   "execution_count": 26,
   "metadata": {},
   "outputs": [
    {
     "data": {
      "image/png": "[encoded data removed]",
      "text/plain": [
       "<Figure size 432x288 with 1 Axes>"
      ]
     },
     "metadata": {
      "needs_background": "light"
     },
     "output_type": "display_data"
    }
   ],
   "source": [
    "fig, ax = plt.subplots()\n",
    "ax.bar(PSs, means, yerr=errors, width = 5, alpha=0.5, ecolor='black', capsize=10)\n",
    "ax.set_ylabel('Terminal leafs')\n",
    "ax.set_xlabel('Pruning span')\n",
    "ax.set_xticks(PSs)\n",
    "ax.yaxis.grid(True)\n",
    "fig.suptitle(\"Terminal leafs as a function of the pruning span\", fontsize=21)\n",
    "fig.savefig(\"../results/TL_random_3D.png\")\n",
    "plt.show()"
   ]
  },
  {
   "cell_type": "code",
   "execution_count": 14,
   "metadata": {},
   "outputs": [
    {
     "name": "stdout",
     "output_type": "stream",
     "text": [
      "Length ratio = 0.7264247841740779 +- 0.18376757904201974. For PS = 10\n",
      "Length ratio = 0.49003552012426327 +- 0.12228838844310536. For PS = 20\n",
      "Length ratio = 0.4924429689488238 +- 0.12776634590933558. For PS = 30\n",
      "Length ratio = 0.35941583999283333 +- 0.10151573970251722. For PS = 40\n",
      "Length ratio = 0.4408469945355192 +- 0.2580594367149966. For PS = 50\n"
     ]
    }
   ],
   "source": [
    "means = []\n",
    "errors = []\n",
    "for PS in PSs:\n",
    "    length_ratio = []\n",
    "\n",
    "    for tree in generated_trees[PS]:\n",
    "        length_ratio.append(tree.tree.get_lenghts_ratio())\n",
    "        \n",
    "    mean = np.mean(length_ratio)\n",
    "    std = np.std(length_ratio)\n",
    "    means.append(mean)\n",
    "    errors.append(std)\n",
    "    \n",
    "    print(\"Length ratio = {} +- {}. For PS = {}\".format(mean, std, PS))"
   ]
  },
  {
   "cell_type": "code",
   "execution_count": 27,
   "metadata": {},
   "outputs": [
    {
     "data": {
      "image/png": "[encoded data removed]",
      "text/plain": [
       "<Figure size 432x288 with 1 Axes>"
      ]
     },
     "metadata": {
      "needs_background": "light"
     },
     "output_type": "display_data"
    }
   ],
   "source": [
    "fig, ax = plt.subplots()\n",
    "ax.bar(PSs, means, yerr=errors, width = 5, alpha=0.5, ecolor='black', capsize=10)\n",
    "ax.set_ylabel('Length ratio')\n",
    "ax.set_xlabel('Pruning span')\n",
    "ax.set_xticks(PSs)\n",
    "ax.yaxis.grid(True)\n",
    "fig.suptitle(\"Length ratio as a function of the pruning span\", fontsize=21)\n",
    "plt.savefig(\"../results/LR_random_3D.png\", bbox_inches=\"tight\")\n",
    "plt.show()"
   ]
  }
 ],
 "metadata": {
  "kernelspec": {
   "display_name": "Python 3",
   "language": "python",
   "name": "python3"
  },
  "language_info": {
   "codemirror_mode": {
    "name": "ipython",
    "version": 3
   },
   "file_extension": ".py",
   "mimetype": "text/x-python",
   "name": "python",
   "nbconvert_exporter": "python",
   "pygments_lexer": "ipython3",
   "version": "3.7.2"
  }
 },
 "nbformat": 4,
 "nbformat_minor": 4
}
