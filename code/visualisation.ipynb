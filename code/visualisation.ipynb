{
 "cells": [
  {
   "cell_type": "markdown",
   "metadata": {},
   "source": [
    "# Visualisation of the model"
   ]
  },
  {
   "cell_type": "code",
   "execution_count": 1,
   "metadata": {},
   "outputs": [],
   "source": [
    "%load_ext autoreload"
   ]
  },
  {
   "cell_type": "code",
   "execution_count": null,
   "metadata": {},
   "outputs": [],
   "source": [
    "%autoreload\n",
    "from tqdm.notebook import tqdm\n",
    "import numpy as np\n",
    "from diff3d import DLA_diff3d\n",
    "from randomwalk_3d import randomwalk_3D\n",
    "\n",
    "import seaborn as sns\n",
    "from collections import Counter\n",
    "import itertools\n",
    "import matplotlib.pyplot as plt"
   ]
  },
  {
   "cell_type": "code",
   "execution_count": null,
   "metadata": {},
   "outputs": [],
   "source": [
    "def generate_tree_diff3d(PS):\n",
    "    x, y, z = [40, 60, 40]\n",
    "    eta = 1\n",
    "    dla = DLA_diff3d(seed=[x//2, y - 1, z//2], x = x, y = y, z = z, eta=eta, w = 1, PS = PS)\n",
    "\n",
    "    while not dla.converged:\n",
    "        dla.update()\n",
    "\n",
    "    for t in tqdm(range(150)):\n",
    "        dla.growth(t + 1)\n",
    "\n",
    "        while not dla.converged:\n",
    "            dla.update()\n",
    "    return dla\n",
    "\n",
    "\n",
    "def generate_tree_randomwalk3d(PS):\n",
    "    x, y, z = [40, 60, 40]\n",
    "    dla = randomwalk_3D(seed=[x // 2, y - 1, z // 2], x = x, y = y, z = z, PS = PS)\n",
    "\n",
    "    # number of points\n",
    "    for i in tqdm(range(150)):\n",
    "        while (dla.walking == True):\n",
    "            \n",
    "            # walk with maximum probability of sticking to cluster (1 - p_stick = 0)\n",
    "            dla.walker(0, i + 1)\n",
    "            \n",
    "        dla.walking = True\n",
    "        \n",
    "    return dla"
   ]
  },
  {
   "cell_type": "code",
   "execution_count": null,
   "metadata": {},
   "outputs": [],
   "source": [
    "PSs = [10, 40]\n",
    "\n",
    "generated_trees = dict()"
   ]
  },
  {
   "cell_type": "code",
   "execution_count": null,
   "metadata": {},
   "outputs": [],
   "source": [
    "for PS in PSs:\n",
    "    generated_trees[PS] = []\n",
    "\n",
    "for PS in PSs:\n",
    "      \n",
    "    # change model here\n",
    "    generated_trees[PS].append(generate_tree_diff3d(PS))\n",
    "        \n",
    "generated_trees"
   ]
  },
  {
   "cell_type": "code",
   "execution_count": null,
   "metadata": {},
   "outputs": [],
   "source": [
    "dla = generated_trees[40][0]\n",
    "\n",
    "## 3D plotting\n",
    "fig = plt.figure()\n",
    "ax = fig.add_subplot(111, projection='3d')\n",
    "ax.set_xlim(*dla.tree.bounds[0])\n",
    "ax.set_ylim(*dla.tree.bounds[1])\n",
    "ax.set_zlim(*dla.tree.bounds[2])\n",
    "ax.set_xlabel(\"x\")\n",
    "ax.set_ylabel(\"y\")\n",
    "ax.set_zlabel(\"z\")\n",
    "ax.view_init(0, 0)\n",
    "\n",
    "for node in dla.tree:\n",
    "    if node.parent_node:\n",
    "        parent = node.parent_node\n",
    "        xp, yp, zp = parent.coords\n",
    "        xc, yc, zc = node.coords\n",
    "\n",
    "        if xp == dla.tree.bounds[0][0] and xc == dla.tree.bounds[0][1] - 1:\n",
    "            xp = dla.tree.bounds[0][1]\n",
    "        elif xp == dla.tree.bounds[0][1] - 1 and xc == dla.tree.bounds[0][0]:\n",
    "            xp = dla.tree.bounds[0][0] - 1\n",
    "\n",
    "        if zp == dla.tree.bounds[2][0] and zc == dla.tree.bounds[2][1] - 1:\n",
    "            zp = dla.tree.bounds[2][1]\n",
    "        elif zp == dla.tree.bounds[2][1] - 1 and zc == dla.tree.bounds[2][0]:\n",
    "            zp = dla.tree.bounds[2][0] - 1\n",
    "\n",
    "        ax.plot3D([xp, xc], [yp, yc], [zp, zc], c='black')\n",
    "\n",
    "\n",
    "# rotate the axes and update\n",
    "for angle in range(0, 360):\n",
    "    ax.view_init(1, angle)\n",
    "    plt.savefig(\"movie/img\" + str(angle) + \".png\", bbox_inches = \"tight\")"
   ]
  },
  {
   "cell_type": "code",
   "execution_count": null,
   "metadata": {},
   "outputs": [],
   "source": [
    "import io\n",
    "from IPython.display import Image\n",
    "import re\n",
    "import imageio\n",
    "import glob\n",
    "\n",
    "filenames = glob.glob('movie/*.png')\n",
    "path = \"movie\"\n",
    "\n",
    "_nsre = re.compile('([0-9]+)')\n",
    "\n",
    "def natural_sort_key(s):\n",
    "    \"\"\"\n",
    "    Sort alphanumerical strings using natural sort.\n",
    "    \"\"\"\n",
    "    return [int(text) if text.isdigit() else text.lower()\n",
    "            for text in re.split(_nsre, s)]   \n",
    "\n",
    "# sort filenames\n",
    "new = sorted(filenames,key=natural_sort_key)\n",
    "\n",
    "# save images\n",
    "images = []\n",
    "for filename in new:\n",
    "    images.append(imageio.imread(filename))\n",
    "\n",
    "# make gif\n",
    "imageio.mimsave(f'movie/movie_random_PS40.gif', images, fps=10)\n",
    "from IPython.display import HTML\n",
    "HTML(f'<img src=\"movie/movie_random_PS40.gif\">')"
   ]
  }
 ],
 "metadata": {
  "kernelspec": {
   "display_name": "Python 3",
   "language": "python",
   "name": "python3"
  },
  "language_info": {
   "codemirror_mode": {
    "name": "ipython",
    "version": 3
   },
   "file_extension": ".py",
   "mimetype": "text/x-python",
   "name": "python",
   "nbconvert_exporter": "python",
   "pygments_lexer": "ipython3",
   "version": "3.7.2"
  }
 },
 "nbformat": 4,
 "nbformat_minor": 2
}
