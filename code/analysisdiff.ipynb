{
 "cells": [
  {
   "cell_type": "code",
   "execution_count": 1,
   "metadata": {
    "scrolled": true
   },
   "outputs": [],
   "source": [
    "%load_ext autoreload"
   ]
  },
  {
   "cell_type": "code",
   "execution_count": 2,
   "metadata": {},
   "outputs": [],
   "source": [
    "%autoreload\n",
    "from tqdm.notebook import tqdm\n",
    "import numpy as np\n",
    "from diff3d import DLA_diff3d\n",
    "from diff2d import DLA_diff2d\n",
    "\n",
    "import seaborn as sns\n",
    "from collections import Counter\n",
    "import itertools\n",
    "import matplotlib.pyplot as plt\n",
    "\n",
    "sns.set()\n",
    "sns.set_context(\"talk\")"
   ]
  },
  {
   "cell_type": "code",
   "execution_count": 3,
   "metadata": {},
   "outputs": [],
   "source": [
    "def generate_tree_diff3d(PS):\n",
    "    x, y, z = [40, 60, 40]\n",
    "    eta = 1\n",
    "    dla = DLA_diff3d(seed=[x//2, y - 1, z//2], x = x, y = y, z = z, eta=eta, w = 1, PS = PS)\n",
    "\n",
    "    while not dla.converged:\n",
    "        dla.update()\n",
    "\n",
    "    for t in tqdm(range(150)):\n",
    "        dla.growth(t + 1)\n",
    "\n",
    "        while not dla.converged:\n",
    "            dla.update()\n",
    "    return dla"
   ]
  },
  {
   "cell_type": "code",
   "execution_count": 4,
   "metadata": {},
   "outputs": [],
   "source": [
    "def generate_tree_diff2d(PS):\n",
    "    x, y = [40, 80]\n",
    "    eta = 1\n",
    "    dla = DLA_diff2d(seed=[x//2, y - 1], x = x, y = y, eta=eta, w = 1, PS = PS)\n",
    "\n",
    "    while not dla.converged:\n",
    "        dla.update()\n",
    "\n",
    "    for t in tqdm(range(150)):\n",
    "        dla.growth(t + 1)\n",
    "\n",
    "        while not dla.converged:\n",
    "            dla.update()\n",
    "    return dla"
   ]
  },
  {
   "cell_type": "code",
   "execution_count": 5,
   "metadata": {},
   "outputs": [],
   "source": [
    "simulations = 5\n",
    "PSs = [10, 20, 30, 40, 50]\n",
    "\n",
    "generated_trees = dict()\n"
   ]
  },
  {
   "cell_type": "code",
   "execution_count": 6,
   "metadata": {},
   "outputs": [],
   "source": [
    "for PS in PSs:\n",
    "    generated_trees[PS] = []"
   ]
  },
  {
   "cell_type": "code",
   "execution_count": 7,
   "metadata": {},
   "outputs": [
    {
     "data": {
      "application/vnd.jupyter.widget-view+json": {
       "model_id": "74b1c6716578466488e4ab3733aa8787",
       "version_major": 2,
       "version_minor": 0
      },
      "text/plain": [
       "HBox(children=(FloatProgress(value=0.0, max=150.0), HTML(value='')))"
      ]
     },
     "metadata": {},
     "output_type": "display_data"
    },
    {
     "name": "stdout",
     "output_type": "stream",
     "text": [
      "\n"
     ]
    },
    {
     "data": {
      "application/vnd.jupyter.widget-view+json": {
       "model_id": "fdc62bf458ef4d959f92ec0ba8ecdb31",
       "version_major": 2,
       "version_minor": 0
      },
      "text/plain": [
       "HBox(children=(FloatProgress(value=0.0, max=150.0), HTML(value='')))"
      ]
     },
     "metadata": {},
     "output_type": "display_data"
    },
    {
     "name": "stdout",
     "output_type": "stream",
     "text": [
      "\n"
     ]
    },
    {
     "data": {
      "application/vnd.jupyter.widget-view+json": {
       "model_id": "d4f083f2cb7c455b9e8e7c3f777b048e",
       "version_major": 2,
       "version_minor": 0
      },
      "text/plain": [
       "HBox(children=(FloatProgress(value=0.0, max=150.0), HTML(value='')))"
      ]
     },
     "metadata": {},
     "output_type": "display_data"
    },
    {
     "name": "stdout",
     "output_type": "stream",
     "text": [
      "\n"
     ]
    },
    {
     "data": {
      "application/vnd.jupyter.widget-view+json": {
       "model_id": "7bfa551277404b93852e57a535e2b31a",
       "version_major": 2,
       "version_minor": 0
      },
      "text/plain": [
       "HBox(children=(FloatProgress(value=0.0, max=150.0), HTML(value='')))"
      ]
     },
     "metadata": {},
     "output_type": "display_data"
    },
    {
     "name": "stdout",
     "output_type": "stream",
     "text": [
      "\n"
     ]
    },
    {
     "data": {
      "application/vnd.jupyter.widget-view+json": {
       "model_id": "9c96c3bb6cef4d729a55a9ba4666a44a",
       "version_major": 2,
       "version_minor": 0
      },
      "text/plain": [
       "HBox(children=(FloatProgress(value=0.0, max=150.0), HTML(value='')))"
      ]
     },
     "metadata": {},
     "output_type": "display_data"
    },
    {
     "name": "stdout",
     "output_type": "stream",
     "text": [
      "\n"
     ]
    },
    {
     "data": {
      "application/vnd.jupyter.widget-view+json": {
       "model_id": "18cfde39c11e462390c6602697edb2ea",
       "version_major": 2,
       "version_minor": 0
      },
      "text/plain": [
       "HBox(children=(FloatProgress(value=0.0, max=150.0), HTML(value='')))"
      ]
     },
     "metadata": {},
     "output_type": "display_data"
    },
    {
     "name": "stdout",
     "output_type": "stream",
     "text": [
      "\n"
     ]
    },
    {
     "data": {
      "application/vnd.jupyter.widget-view+json": {
       "model_id": "47c1207d1d59407bb94e6095c5e13a90",
       "version_major": 2,
       "version_minor": 0
      },
      "text/plain": [
       "HBox(children=(FloatProgress(value=0.0, max=150.0), HTML(value='')))"
      ]
     },
     "metadata": {},
     "output_type": "display_data"
    },
    {
     "name": "stdout",
     "output_type": "stream",
     "text": [
      "\n"
     ]
    },
    {
     "data": {
      "application/vnd.jupyter.widget-view+json": {
       "model_id": "d376edf6ca63487491f38f8660588b90",
       "version_major": 2,
       "version_minor": 0
      },
      "text/plain": [
       "HBox(children=(FloatProgress(value=0.0, max=150.0), HTML(value='')))"
      ]
     },
     "metadata": {},
     "output_type": "display_data"
    },
    {
     "name": "stdout",
     "output_type": "stream",
     "text": [
      "\n"
     ]
    },
    {
     "data": {
      "application/vnd.jupyter.widget-view+json": {
       "model_id": "64667ff3c5c7440c8a313a9f45b7a83c",
       "version_major": 2,
       "version_minor": 0
      },
      "text/plain": [
       "HBox(children=(FloatProgress(value=0.0, max=150.0), HTML(value='')))"
      ]
     },
     "metadata": {},
     "output_type": "display_data"
    },
    {
     "name": "stdout",
     "output_type": "stream",
     "text": [
      "\n"
     ]
    },
    {
     "data": {
      "application/vnd.jupyter.widget-view+json": {
       "model_id": "b9f0cde30aa546b38a3b5a0930dda0ab",
       "version_major": 2,
       "version_minor": 0
      },
      "text/plain": [
       "HBox(children=(FloatProgress(value=0.0, max=150.0), HTML(value='')))"
      ]
     },
     "metadata": {},
     "output_type": "display_data"
    },
    {
     "name": "stdout",
     "output_type": "stream",
     "text": [
      "\n"
     ]
    },
    {
     "data": {
      "application/vnd.jupyter.widget-view+json": {
       "model_id": "c1298cd917d343388eff211b8d2757bd",
       "version_major": 2,
       "version_minor": 0
      },
      "text/plain": [
       "HBox(children=(FloatProgress(value=0.0, max=150.0), HTML(value='')))"
      ]
     },
     "metadata": {},
     "output_type": "display_data"
    },
    {
     "name": "stdout",
     "output_type": "stream",
     "text": [
      "\n"
     ]
    },
    {
     "data": {
      "application/vnd.jupyter.widget-view+json": {
       "model_id": "f31847907e064879bb8083cf117023e7",
       "version_major": 2,
       "version_minor": 0
      },
      "text/plain": [
       "HBox(children=(FloatProgress(value=0.0, max=150.0), HTML(value='')))"
      ]
     },
     "metadata": {},
     "output_type": "display_data"
    },
    {
     "name": "stdout",
     "output_type": "stream",
     "text": [
      "\n"
     ]
    },
    {
     "data": {
      "application/vnd.jupyter.widget-view+json": {
       "model_id": "543789ab3c9b43418d5711af0a791253",
       "version_major": 2,
       "version_minor": 0
      },
      "text/plain": [
       "HBox(children=(FloatProgress(value=0.0, max=150.0), HTML(value='')))"
      ]
     },
     "metadata": {},
     "output_type": "display_data"
    },
    {
     "name": "stdout",
     "output_type": "stream",
     "text": [
      "\n"
     ]
    },
    {
     "data": {
      "application/vnd.jupyter.widget-view+json": {
       "model_id": "0178c01d0a734c9fafc3666a1b1b1e3b",
       "version_major": 2,
       "version_minor": 0
      },
      "text/plain": [
       "HBox(children=(FloatProgress(value=0.0, max=150.0), HTML(value='')))"
      ]
     },
     "metadata": {},
     "output_type": "display_data"
    },
    {
     "name": "stdout",
     "output_type": "stream",
     "text": [
      "\n"
     ]
    },
    {
     "data": {
      "application/vnd.jupyter.widget-view+json": {
       "model_id": "b2ba304f183347abb3aae538be6399cb",
       "version_major": 2,
       "version_minor": 0
      },
      "text/plain": [
       "HBox(children=(FloatProgress(value=0.0, max=150.0), HTML(value='')))"
      ]
     },
     "metadata": {},
     "output_type": "display_data"
    },
    {
     "name": "stdout",
     "output_type": "stream",
     "text": [
      "\n"
     ]
    },
    {
     "data": {
      "application/vnd.jupyter.widget-view+json": {
       "model_id": "cd7585a335814df0b0ab7b9b85b7a9e2",
       "version_major": 2,
       "version_minor": 0
      },
      "text/plain": [
       "HBox(children=(FloatProgress(value=0.0, max=150.0), HTML(value='')))"
      ]
     },
     "metadata": {},
     "output_type": "display_data"
    },
    {
     "name": "stdout",
     "output_type": "stream",
     "text": [
      "\n"
     ]
    },
    {
     "data": {
      "application/vnd.jupyter.widget-view+json": {
       "model_id": "b3b83a1e99f94526952f3f1b2913d632",
       "version_major": 2,
       "version_minor": 0
      },
      "text/plain": [
       "HBox(children=(FloatProgress(value=0.0, max=150.0), HTML(value='')))"
      ]
     },
     "metadata": {},
     "output_type": "display_data"
    },
    {
     "name": "stdout",
     "output_type": "stream",
     "text": [
      "\n"
     ]
    },
    {
     "data": {
      "application/vnd.jupyter.widget-view+json": {
       "model_id": "8fed7904b358491391807045aa8650da",
       "version_major": 2,
       "version_minor": 0
      },
      "text/plain": [
       "HBox(children=(FloatProgress(value=0.0, max=150.0), HTML(value='')))"
      ]
     },
     "metadata": {},
     "output_type": "display_data"
    },
    {
     "name": "stdout",
     "output_type": "stream",
     "text": [
      "\n"
     ]
    },
    {
     "data": {
      "application/vnd.jupyter.widget-view+json": {
       "model_id": "993ec7ecce0b4646b25a6ffe71d9a1c1",
       "version_major": 2,
       "version_minor": 0
      },
      "text/plain": [
       "HBox(children=(FloatProgress(value=0.0, max=150.0), HTML(value='')))"
      ]
     },
     "metadata": {},
     "output_type": "display_data"
    },
    {
     "name": "stdout",
     "output_type": "stream",
     "text": [
      "\n"
     ]
    },
    {
     "data": {
      "application/vnd.jupyter.widget-view+json": {
       "model_id": "3a83cf2c6a5f4b3298f5df4377f3589d",
       "version_major": 2,
       "version_minor": 0
      },
      "text/plain": [
       "HBox(children=(FloatProgress(value=0.0, max=150.0), HTML(value='')))"
      ]
     },
     "metadata": {},
     "output_type": "display_data"
    },
    {
     "name": "stdout",
     "output_type": "stream",
     "text": [
      "\n"
     ]
    },
    {
     "data": {
      "application/vnd.jupyter.widget-view+json": {
       "model_id": "1da0866c22a64cf4be6d66fce508ed78",
       "version_major": 2,
       "version_minor": 0
      },
      "text/plain": [
       "HBox(children=(FloatProgress(value=0.0, max=150.0), HTML(value='')))"
      ]
     },
     "metadata": {},
     "output_type": "display_data"
    },
    {
     "name": "stdout",
     "output_type": "stream",
     "text": [
      "\n"
     ]
    },
    {
     "data": {
      "application/vnd.jupyter.widget-view+json": {
       "model_id": "36cbae2526eb487884f169cfa1cce9f1",
       "version_major": 2,
       "version_minor": 0
      },
      "text/plain": [
       "HBox(children=(FloatProgress(value=0.0, max=150.0), HTML(value='')))"
      ]
     },
     "metadata": {},
     "output_type": "display_data"
    },
    {
     "name": "stdout",
     "output_type": "stream",
     "text": [
      "\n"
     ]
    },
    {
     "data": {
      "application/vnd.jupyter.widget-view+json": {
       "model_id": "05936207aef8403585841ac955030a0e",
       "version_major": 2,
       "version_minor": 0
      },
      "text/plain": [
       "HBox(children=(FloatProgress(value=0.0, max=150.0), HTML(value='')))"
      ]
     },
     "metadata": {},
     "output_type": "display_data"
    },
    {
     "name": "stdout",
     "output_type": "stream",
     "text": [
      "\n"
     ]
    },
    {
     "data": {
      "application/vnd.jupyter.widget-view+json": {
       "model_id": "75ed361e62cb4247bbcb7e793e60c64b",
       "version_major": 2,
       "version_minor": 0
      },
      "text/plain": [
       "HBox(children=(FloatProgress(value=0.0, max=150.0), HTML(value='')))"
      ]
     },
     "metadata": {},
     "output_type": "display_data"
    },
    {
     "name": "stdout",
     "output_type": "stream",
     "text": [
      "\n"
     ]
    },
    {
     "data": {
      "application/vnd.jupyter.widget-view+json": {
       "model_id": "6053f1737868452bb0589163ed4e0d21",
       "version_major": 2,
       "version_minor": 0
      },
      "text/plain": [
       "HBox(children=(FloatProgress(value=0.0, max=150.0), HTML(value='')))"
      ]
     },
     "metadata": {},
     "output_type": "display_data"
    },
    {
     "name": "stdout",
     "output_type": "stream",
     "text": [
      "\n"
     ]
    },
    {
     "data": {
      "text/plain": [
       "{10: [<diff2d.DLA_diff2d at 0x7fe4a86be518>,\n",
       "  <diff2d.DLA_diff2d at 0x7fe4a86e0240>,\n",
       "  <diff2d.DLA_diff2d at 0x7fe4a86f4d30>,\n",
       "  <diff2d.DLA_diff2d at 0x7fe4a8708240>,\n",
       "  <diff2d.DLA_diff2d at 0x7fe4a8714cc0>],\n",
       " 20: [<diff2d.DLA_diff2d at 0x7fe4a8728828>,\n",
       "  <diff2d.DLA_diff2d at 0x7fe4a8735e10>,\n",
       "  <diff2d.DLA_diff2d at 0x7fe4a8745128>,\n",
       "  <diff2d.DLA_diff2d at 0x7fe4a8754748>,\n",
       "  <diff2d.DLA_diff2d at 0x7fe4a87615c0>],\n",
       " 30: [<diff2d.DLA_diff2d at 0x7fe4a876db38>,\n",
       "  <diff2d.DLA_diff2d at 0x7fe4a87821d0>,\n",
       "  <diff2d.DLA_diff2d at 0x7fe4a878e940>,\n",
       "  <diff2d.DLA_diff2d at 0x7fe4a8799dd8>,\n",
       "  <diff2d.DLA_diff2d at 0x7fe4a87a7c88>],\n",
       " 40: [<diff2d.DLA_diff2d at 0x7fe4a87b95c0>,\n",
       "  <diff2d.DLA_diff2d at 0x7fe4a87c7588>,\n",
       "  <diff2d.DLA_diff2d at 0x7fe4a87d35c0>,\n",
       "  <diff2d.DLA_diff2d at 0x7fe4a87e34a8>,\n",
       "  <diff2d.DLA_diff2d at 0x7fe4a87f9198>],\n",
       " 50: [<diff2d.DLA_diff2d at 0x7fe4a87f9e10>,\n",
       "  <diff2d.DLA_diff2d at 0x7fe4a8811710>,\n",
       "  <diff2d.DLA_diff2d at 0x7fe4a8819e80>,\n",
       "  <diff2d.DLA_diff2d at 0x7fe4a88284e0>,\n",
       "  <diff2d.DLA_diff2d at 0x7fe4a8833e48>]}"
      ]
     },
     "execution_count": 7,
     "metadata": {},
     "output_type": "execute_result"
    }
   ],
   "source": [
    "for PS in PSs:\n",
    "    for _ in range(simulations):\n",
    "        # change model here either\n",
    "        # generate_tree_diff3d\n",
    "        # or \n",
    "        # generate_tree_diff2d\n",
    "        generated_trees[PS].append(generate_tree_diff2d(PS))\n",
    "        \n",
    "generated_trees"
   ]
  },
  {
   "cell_type": "code",
   "execution_count": 8,
   "metadata": {},
   "outputs": [],
   "source": [
    "# for PS in PSs:\n",
    "#     plt.figure()\n",
    "#     branch_orders = []\n",
    "#     for tree in generated_trees[PS]:\n",
    "#         branch_orders += tree.tree.get_branch_orders()\n",
    "#     plt.hist(branch_orders, bins = max(branch_orders))\n",
    "#     plt.title(\"{}\".format(PS))"
   ]
  },
  {
   "cell_type": "code",
   "execution_count": 9,
   "metadata": {},
   "outputs": [
    {
     "data": {
      "image/png": "[encoded data removed]",
      "text/plain": [
       "<Figure size 648x432 with 5 Axes>"
      ]
     },
     "metadata": {
      "needs_background": "light"
     },
     "output_type": "display_data"
    }
   ],
   "source": [
    "fig, ax = plt.subplots(2, 3, figsize = (9, 6))\n",
    "ax = ax.flatten()\n",
    "counter  = 0\n",
    "for PS in PSs:\n",
    "\n",
    "    branch_orders = []\n",
    "    for tree in generated_trees[PS]:\n",
    "        branch_orders += tree.tree.get_branch_orders()\n",
    "    \n",
    "    \n",
    "    c = Counter(branch_orders)\n",
    "    c = sorted(c.items())\n",
    "    x, y = zip(*c)\n",
    "    ax[counter].hist(branch_orders, alpha = 0.5, bins = max(branch_orders))\n",
    "    ax[counter].set_title(\"PS: {}\".format(PS))\n",
    "    ax[counter].set_xlabel(\"Branching order\")\n",
    "    ax[counter].set_ylabel(\"Occurences\")\n",
    "    counter += 1\n",
    "\n",
    "fig.delaxes(ax[counter])\n",
    "fig.subplots_adjust(wspace = 1, hspace = 1.5)\n",
    "fig.suptitle(\"Branching orders as a function of the Pruning Span\", y = 1.03)\n",
    "plt.ylabel(\"Occurences\")\n",
    "plt.show()"
   ]
  },
  {
   "cell_type": "code",
   "execution_count": 10,
   "metadata": {},
   "outputs": [
    {
     "data": {
      "image/png": "[encoded data removed]",
      "text/plain": [
       "<Figure size 432x288 with 1 Axes>"
      ]
     },
     "metadata": {
      "needs_background": "light"
     },
     "output_type": "display_data"
    }
   ],
   "source": [
    "plt.figure()\n",
    "for PS in PSs:\n",
    "\n",
    "    branch_orders = []\n",
    "    for tree in generated_trees[PS]:\n",
    "        branch_orders += tree.tree.get_branch_orders()\n",
    "    \n",
    "    \n",
    "    c = Counter(branch_orders)\n",
    "    c = sorted(c.items())\n",
    "    x, y = zip(*c)\n",
    "    plt.plot(x, y, label='PS = {}'.format(PS))\n",
    "        \n",
    "plt.title(\"Occurence of the branching orders per pruning span\")\n",
    "plt.xlabel(\"Branch order\")\n",
    "plt.ylabel(\"Occurence\")\n",
    "plt.legend(bbox_to_anchor=(1.04,1), borderaxespad=0)\n",
    "plt.show()"
   ]
  },
  {
   "cell_type": "code",
   "execution_count": 11,
   "metadata": {},
   "outputs": [
    {
     "name": "stdout",
     "output_type": "stream",
     "text": [
      "Length ratio = 0.8678052974491581 +- 0.08669460056247938. For PS = 10\n",
      "Length ratio = 0.585032903235032 +- 0.1136929080634685. For PS = 20\n",
      "Length ratio = 0.402016434068084 +- 0.1208294028187571. For PS = 30\n",
      "Length ratio = 0.47809136662795193 +- 0.32172142215593. For PS = 40\n",
      "Length ratio = 0.5172661074695959 +- 0.19379310461079557. For PS = 50\n"
     ]
    }
   ],
   "source": [
    "means = []\n",
    "errors = []\n",
    "for PS in PSs:\n",
    "    length_ratio = []\n",
    "\n",
    "    for tree in generated_trees[PS]:\n",
    "        length_ratio.append(tree.tree.get_lenghts_ratio())\n",
    "        \n",
    "    mean = np.mean(length_ratio)\n",
    "    std = np.std(length_ratio)\n",
    "    means.append(mean)\n",
    "    errors.append(std)\n",
    "    \n",
    "    print(\"Length ratio = {} +- {}. For PS = {}\".format(mean, std, PS))\n",
    "    "
   ]
  },
  {
   "cell_type": "code",
   "execution_count": 12,
   "metadata": {},
   "outputs": [
    {
     "data": {
      "image/png": "[encoded data removed]",
      "text/plain": [
       "<Figure size 432x288 with 1 Axes>"
      ]
     },
     "metadata": {
      "needs_background": "light"
     },
     "output_type": "display_data"
    }
   ],
   "source": [
    "fig, ax = plt.subplots()\n",
    "ax.bar(PSs, means, yerr=errors, width = 5, alpha=0.5, ecolor='black', capsize=10)\n",
    "ax.set_ylabel('Length ratio')\n",
    "ax.set_xlabel('Pruning span')\n",
    "ax.set_xticks(PSs)\n",
    "ax.yaxis.grid(True)\n",
    "fig.suptitle(\"Length ratio as a function of the pruning span\")\n",
    "plt.show()\n"
   ]
  },
  {
   "cell_type": "code",
   "execution_count": 13,
   "metadata": {},
   "outputs": [
    {
     "name": "stdout",
     "output_type": "stream",
     "text": [
      "Asymmetry index = 0.6414490488298538 +- 0.05734073400867662. For PS = 10\n",
      "Asymmetry index = 0.6570346320346319 +- 0.11016690887953828. For PS = 20\n",
      "Asymmetry index = 0.6771464646464647 +- 0.08098056087524601. For PS = 30\n",
      "Asymmetry index = 0.6038095238095239 +- 0.12672036097889444. For PS = 40\n",
      "Asymmetry index = 0.6330158730158729 +- 0.18106206645037892. For PS = 50\n"
     ]
    }
   ],
   "source": [
    "means = []\n",
    "errors = []\n",
    "for PS in PSs:\n",
    "    asym = []\n",
    "\n",
    "    for tree in generated_trees[PS]:\n",
    "        asym.append(tree.tree.get_asymmetry_index())\n",
    "    \n",
    "    mean = np.mean(asym)\n",
    "    std = np.std(asym)\n",
    "    means.append(mean)\n",
    "    errors.append(std)\n",
    "    print(\"Asymmetry index = {} +- {}. For PS = {}\".format(mean, std, PS))\n",
    "    "
   ]
  },
  {
   "cell_type": "code",
   "execution_count": 14,
   "metadata": {},
   "outputs": [
    {
     "data": {
      "image/png": "[encoded data removed]",
      "text/plain": [
       "<Figure size 432x288 with 1 Axes>"
      ]
     },
     "metadata": {
      "needs_background": "light"
     },
     "output_type": "display_data"
    }
   ],
   "source": [
    "fig, ax = plt.subplots()\n",
    "ax.bar(PSs, means, yerr=errors, width = 5, alpha=0.5, ecolor='black', capsize=10)\n",
    "ax.set_ylabel('Asymmetry index')\n",
    "ax.set_xlabel('Pruning span')\n",
    "ax.set_xticks(PSs)\n",
    "ax.yaxis.grid(True)\n",
    "fig.suptitle(\"Asymmetry index as a function of the pruning span\")\n",
    "plt.show()"
   ]
  },
  {
   "cell_type": "code",
   "execution_count": 15,
   "metadata": {},
   "outputs": [
    {
     "name": "stdout",
     "output_type": "stream",
     "text": [
      "Terminal leafs = 21.0 +- 1.4142135623730951. For PS = 10\n",
      "Terminal leafs = 10.0 +- 1.8973665961010275. For PS = 20\n",
      "Terminal leafs = 9.2 +- 1.9390719429665315. For PS = 30\n",
      "Terminal leafs = 7.0 +- 0.8944271909999159. For PS = 40\n",
      "Terminal leafs = 7.2 +- 0.7483314773547882. For PS = 50\n"
     ]
    }
   ],
   "source": [
    "# beware for change in function name, leafs!=terminal segments\n",
    "means = []\n",
    "errors = []\n",
    "\n",
    "for PS in PSs:\n",
    "    leafs = []\n",
    "\n",
    "    for tree in generated_trees[PS]:\n",
    "        leafs.append(tree.tree.get_number_of_terminal_segments())\n",
    "    \n",
    "    mean = np.mean(leafs)\n",
    "    std = np.std(leafs)\n",
    "    means.append(mean)\n",
    "    errors.append(std)\n",
    "    \n",
    "    print(\"Terminal leafs = {} +- {}. For PS = {}\".format(mean, std, PS))\n",
    "\n"
   ]
  },
  {
   "cell_type": "code",
   "execution_count": 16,
   "metadata": {},
   "outputs": [
    {
     "data": {
      "image/png": "[encoded data removed]",
      "text/plain": [
       "<Figure size 432x288 with 1 Axes>"
      ]
     },
     "metadata": {
      "needs_background": "light"
     },
     "output_type": "display_data"
    }
   ],
   "source": [
    "fig, ax = plt.subplots()\n",
    "ax.bar(PSs, means, yerr=errors, width = 5, alpha=0.5, ecolor='black', capsize=10)\n",
    "ax.set_ylabel('Terminal leafs')\n",
    "ax.set_xlabel('Pruning span')\n",
    "ax.set_xticks(PSs)\n",
    "ax.yaxis.grid(True)\n",
    "fig.suptitle(\"Terminal leafs as a function of the pruning span\")\n",
    "plt.show()"
   ]
  }
 ],
 "metadata": {
  "kernelspec": {
   "display_name": "Python 3",
   "language": "python",
   "name": "python3"
  },
  "language_info": {
   "codemirror_mode": {
    "name": "ipython",
    "version": 3
   },
   "file_extension": ".py",
   "mimetype": "text/x-python",
   "name": "python",
   "nbconvert_exporter": "python",
   "pygments_lexer": "ipython3",
   "version": "3.7.3"
  }
 },
 "nbformat": 4,
 "nbformat_minor": 4
}
